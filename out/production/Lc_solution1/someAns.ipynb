{
 "cells": [
  {
   "cell_type": "code",
   "execution_count": 126,
   "metadata": {},
   "outputs": [],
   "source": [
    "## 3.Longest Substring Without Repeating Characters\n",
    "#### draft，不完全的双指针实现，没有做完\n",
    "def lengthOfLongestSubstring(s):\n",
    "    ind_lst=[]\n",
    "    lst=list(s)\n",
    "    i=0\n",
    "    j=i+1\n",
    "    while j<len(s):\n",
    "        index=j-i\n",
    "        ##判断一组i,j局部数组是否有重复，有重复append长度，重置i,j，无重复继续遍历局部数组（不更新i，j+1）\n",
    "        while index>0:\n",
    "            if lst[j]==lst[i+index-1]:\n",
    "                print(lst[i],lst[j],j-i)\n",
    "                ind_lst.append(j-i)\n",
    "                i=i+index\n",
    "                j=i+1\n",
    "                break\n",
    "            else:\n",
    "                j+=1\n",
    "                index-=1\n",
    "        print(ind_lst,i,len(s),len(s)-i)\n",
    "    if len(ind_lst)==0:\n",
    "        return len(s)\n",
    "    return int(max(ind_lst))"
   ]
  },
  {
   "cell_type": "code",
   "execution_count": 167,
   "metadata": {},
   "outputs": [
    {
     "name": "stdout",
     "output_type": "stream",
     "text": [
      "3\n"
     ]
    }
   ],
   "source": [
    "#### solution：滑动窗口，有模板\n",
    "def lengthOfLongestSubstring(s):\n",
    "    if not s:return 0\n",
    "    left = 0\n",
    "    lookup = set()\n",
    "    n = len(s)\n",
    "    max_len = 0\n",
    "    cur_len = 0\n",
    "    for i in range(n):\n",
    "        cur_len += 1\n",
    "        while s[i] in lookup:\n",
    "            lookup.remove(s[left])\n",
    "            left += 1\n",
    "            cur_len -= 1            \n",
    "        if cur_len > max_len:max_len = cur_len\n",
    "        lookup.add(s[i])\n",
    "    return max_len\n",
    "\n",
    "if __name__ == \"__main__\":\n",
    "    print(lengthOfLongestSubstring('asfffsa'))"
   ]
  },
  {
   "cell_type": "code",
   "execution_count": 224,
   "metadata": {},
   "outputs": [
    {
     "name": "stdout",
     "output_type": "stream",
     "text": [
      "[[0, 0, 0]]\n"
     ]
    }
   ],
   "source": [
    "\n",
    "####15.threes sum:给你一个包含 n 个整数的数组 nums，判断 nums 中是否存在三个元素 a，b，c ，使得 a + b + c = 0 ？请你找出所有和为 0 且不重复的三元组。注意：答案中不可以包含重复的三元组。\n",
    "# 示例 1：\n",
    "# 输入：nums = [-1,0,1,2,-1,-4]\n",
    "# 输出：[[-1,-1,2],[-1,0,1]]\n",
    "# 示例 2：\n",
    "# 输入：nums = []\n",
    "# 输出：[]\n",
    "# 示例 3：\n",
    "# 输入：nums = [0]\n",
    "# 输出：[]\n",
    "#### draft\n",
    "#### 思路：暴力解法，把所有符合的三元组取出后去重。实测超出时限，所以该解法虽然在数组元素较少的时候能达到题解目的，但复杂度=O(n^3)过高不可行，且未判空。\n",
    "#### 注意：若使用index获取列表下标，达不到本题目的，因为值相同index相同，if nums.index(i)!=nums.index(j) and nums.index(i)!=nums.index(k) and nums.index(k)!=nums.index(j) and i+j+k==0:\n",
    "\n",
    "def threeSum(nums):\n",
    "    res=[]\n",
    "    for i in range(len(nums)):\n",
    "        for j in range(len(nums)):\n",
    "            for k in range(len(nums)):\n",
    "                if i!=j and i!=k and k!=j and nums[i]+nums[j]+nums[k]==0:\n",
    "                    x=[nums[i],nums[j],nums[k]]\n",
    "                    x.sort()\n",
    "                    if x not in res:\n",
    "                        res.append(x)\n",
    "    return res                   \n",
    "\n",
    "if __name__ == \"__main__\":\n",
    "    print(threeSum([0,0,0,0,0,0]))\n",
    "#     print(threeSum([-1,0,1,2,-1,-4]))"
   ]
  },
  {
   "cell_type": "code",
   "execution_count": 228,
   "metadata": {},
   "outputs": [
    {
     "name": "stdout",
     "output_type": "stream",
     "text": [
      "[[-1, 0, 1], [0, 0, 0]]\n"
     ]
    }
   ],
   "source": [
    "#### solution：排序+双指针。因为排过序，所以可以节省很多复杂度，当左指针元素>0,之后所有和都不会=0，可以直接返回结果。\n",
    "####时间复杂度：O(n^2),数组排序 O(NlogN)，遍历数组 O(n)，双指针遍历 O(n)，总体 =O(NlogN)+O(n)*O(n)=O(n^2)\n",
    "####空间复杂度：O(1)\n",
    "\n",
    "def threeSum(nums):\n",
    "    n=len(nums)\n",
    "    res=[]\n",
    "    if(not nums or n<3):\n",
    "        return []\n",
    "    nums.sort()\n",
    "    res=[]\n",
    "    for i in range(n):\n",
    "        if(nums[i]>0):\n",
    "            return res\n",
    "        if(i>0 and nums[i]==nums[i-1]):\n",
    "            continue\n",
    "        L=i+1\n",
    "        R=n-1\n",
    "        while(L<R):\n",
    "            if(nums[i]+nums[L]+nums[R]==0):\n",
    "                res.append([nums[i],nums[L],nums[R]])\n",
    "                while(L<R and nums[L]==nums[L+1]):\n",
    "                    L=L+1\n",
    "                while(L<R and nums[R]==nums[R-1]):\n",
    "                    R=R-1\n",
    "                L=L+1\n",
    "                R=R-1\n",
    "            elif(nums[i]+nums[L]+nums[R]>0):\n",
    "                R=R-1\n",
    "            else:\n",
    "                L=L+1\n",
    "    return res\n",
    "\n",
    "\n",
    "if __name__ == \"__main__\":\n",
    "    print(threeSum([-1,-1,-1,0,0,0,1,1,1,1]))"
   ]
  },
  {
   "cell_type": "code",
   "execution_count": 251,
   "metadata": {},
   "outputs": [
    {
     "name": "stdout",
     "output_type": "stream",
     "text": [
      "6\n"
     ]
    }
   ],
   "source": [
    "#### 53. 最大子序和:给定一个整数数组 nums ，找到一个具有最大和的连续子数组（子数组最少包含一个元素），返回其最大和。\n",
    "# 输入：nums = [-2,1,-3,4,-1,2,1,-5,4]\n",
    "# 输出：6\n",
    "# 解释：连续子数组 [4,-1,2,1] 的和最大，为 6 。\n",
    "#### draft:思路：暴力解法，从头遍历所有子串。又超出时限，双循环遍历复杂度o(n^2)\n",
    "\n",
    "def maxSubArray(nums):\n",
    "    max_sum=max(nums)\n",
    "    for i in range(len(nums)):\n",
    "        sums = 0\n",
    "        for j in range(i,len(nums)):\n",
    "            sums += nums[j]        \n",
    "            max_sum = max(max_sum, sums)\n",
    "    return max_sum\n",
    "\n",
    "if __name__ == \"__main__\":\n",
    "    print(maxSubArray([-2,1,-3,4,-1,2,1,-5,4]))"
   ]
  },
  {
   "cell_type": "code",
   "execution_count": 253,
   "metadata": {},
   "outputs": [
    {
     "name": "stdout",
     "output_type": "stream",
     "text": [
      "6\n"
     ]
    }
   ],
   "source": [
    "#### draft:思路：贪心，sum<0则置空，重新加载子串。通过√ 但是性能不太好\n",
    "def maxSubArray(nums):\n",
    "    max_sum=max(nums)\n",
    "    sums = 0\n",
    "    for i in range(len(nums)):\n",
    "        sums += nums[i]        \n",
    "        max_sum = max(max_sum, sums)\n",
    "        if sums < 0:\n",
    "            sums = 0\n",
    "    return max_sum\n",
    "\n",
    "if __name__ == \"__main__\":\n",
    "    print(maxSubArray([-2,-1,-3,4,-1,2,1,-5,4]))"
   ]
  },
  {
   "cell_type": "code",
   "execution_count": 257,
   "metadata": {},
   "outputs": [
    {
     "name": "stdout",
     "output_type": "stream",
     "text": [
      "6\n"
     ]
    }
   ],
   "source": [
    "'''\n",
    "示例: [a, b , c, d , e]\n",
    "解答这类题目, 省略不掉遍历, 因此我们先从遍历方式说起\n",
    "通常我们遍历子串或者子序列有三种遍历方式\n",
    "    - 以某个节点为开头的所有子序列: 如 [a]，[a, b]，[ a, b, c] ... 再从以 b 为开头的子序列开始遍历 [b] [b, c]。\n",
    "    - 根据子序列的长度为标杆，如先遍历出子序列长度为 1 的子序列，在遍历出长度为 2 的 等等。\n",
    "    - 以子序列的结束节点为基准，先遍历出以某个节点为结束的所有子序列，因为每个节点都可能会是子序列的结束节点，因此要遍历下整个序列，如: 以 b 为结束点的所有子序列: [a , b] [b] 以 c 为结束点的所有子序列: [a, b, c] [b, c] [ c ]。\n",
    "第一种遍历方式通常用于暴力解法, 第二种遍历方式(5. 最长回文子串 )中的解法就用到了。\n",
    "第三种遍历方式 因为可以产生递推关系, 采用动态规划时, 经常通过此种遍历方式, 如 背包问题, 最大公共子串 , 这里的动态规划解法也是以 先遍历出 以某个节点为结束节点的所有子序列 的思路\n",
    "对于刚接触动态规划的, 我感觉熟悉第三种遍历方式是需要抓住的核心\n",
    "因为我们通常的惯性思维是以子序列的开头为基准，先遍历出以 a 为开头的所有子序列，再遍历出以 b 为开头的...但是动态规划为了找到不同子序列之间的递推关系，恰恰是以子序列的结束点为基准的，这点开阔了我们的思路。\n",
    "\n",
    "'''\n",
    "#### solution: 动态规划，以子序列的结束节点为基准遍历，比较(pre+num[i],num[i])，性能也没有非常好。。。\n",
    "def maxSubArray(nums):\n",
    "    max_sum=max(nums)\n",
    "    pre = nums[0]\n",
    "    for i in range(1,len(nums)):\n",
    "        pre = max(pre+nums[i],nums[i])\n",
    "#         print(pre)\n",
    "        max_sum = max(max_sum, pre)\n",
    "    return max_sum\n",
    "\n",
    "if __name__ == \"__main__\":\n",
    "    print(maxSubArray([-2,-1,-3,4,-1,2,1,-5,4]))"
   ]
  },
  {
   "cell_type": "code",
   "execution_count": 8,
   "metadata": {},
   "outputs": [
    {
     "data": {
      "text/plain": [
       "9000000000"
      ]
     },
     "execution_count": 8,
     "metadata": {},
     "output_type": "execute_result"
    }
   ],
   "source": [
    "1000000000*9"
   ]
  }
 ],
 "metadata": {
  "kernelspec": {
   "display_name": "Python 3",
   "language": "python",
   "name": "python3"
  },
  "language_info": {
   "codemirror_mode": {
    "name": "ipython",
    "version": 3
   },
   "file_extension": ".py",
   "mimetype": "text/x-python",
   "name": "python",
   "nbconvert_exporter": "python",
   "pygments_lexer": "ipython3",
   "version": "3.8.5"
  }
 },
 "nbformat": 4,
 "nbformat_minor": 4
}
